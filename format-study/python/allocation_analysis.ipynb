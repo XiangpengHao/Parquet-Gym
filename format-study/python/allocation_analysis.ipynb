{
 "cells": [
  {
   "cell_type": "code",
   "execution_count": 1,
   "metadata": {},
   "outputs": [],
   "source": [
    "import argparse\n",
    "import subprocess\n",
    "import os\n",
    "import json\n",
    "import shutil\n",
    "import pandas as pd\n",
    "import matplotlib.pyplot as plt\n",
    "import seaborn as sns\n",
    "from time import sleep\n",
    "import concurrent.futures\n",
    "from matplotlib.patches import Patch\n",
    "\n",
    "def load_data(input_dir):\n",
    "\n",
    "    def stats_type_from_file_name(file_name):\n",
    "        return file_name.split(\"_\")[-1].split(\".\")[0]\n",
    "    records = []\n",
    "    for f in os.listdir(input_dir):\n",
    "        if f.endswith(\".json\"):\n",
    "            with open(os.path.join(input_dir, f)) as json_f:\n",
    "                records.extend(json.load(json_f)[1:])\n",
    "    df = pd.DataFrame(records)\n",
    "    df['time_per_column'] = df['metadata_end_to_end_load_time_nanos'] / df['column_cnt']\n",
    "    df['stats'] = df.apply(lambda x: stats_type_from_file_name(x['file_name']), axis=1)\n",
    "    return df"
   ]
  },
  {
   "cell_type": "code",
   "execution_count": 14,
   "metadata": {},
   "outputs": [],
   "source": [
    "input_dir =  \"../target/wide_table_bench/\"\n",
    "\n",
    "df_new = load_data(input_dir + \"new\") \n",
    "df_old = load_data(input_dir + \"old\")\n",
    "\n",
    "df_old['reduced_alloc'] = 'Baseline' \n",
    "df_new['reduced_alloc'] = 'Reduced allocation' \n",
    "df = pd.concat([df_new, df_old])\n",
    "\n",
    "df['size_per_column'] = df['metadata_len'] / df['column_cnt']\n",
    "df['bytes_per_ms'] = df['metadata_len'] / (df['metadata_end_to_end_load_time_nanos'] / 1_000_000)\n",
    "\n",
    "def stats_order(x):\n",
    "\tif x['stats'] == 'none':\n",
    "\t\treturn 1\n",
    "\tif x['stats'] == 'chunk':\n",
    "\t\treturn 2\n",
    "\tif x['stats'] == 'page':\n",
    "\t\treturn 3\n",
    "df['order'] = df.apply(stats_order, axis=1)\n",
    "df.sort_values(by='order', inplace=True)"
   ]
  },
  {
   "cell_type": "code",
   "execution_count": 15,
   "metadata": {},
   "outputs": [],
   "source": [
    "time_per_column = df.groupby('stats')[['time_per_column', 'stats']].describe()['time_per_column']\n",
    "time_per_column.sort_values(by='mean', ascending=True, inplace=True)\n",
    "\n",
    "size_per_column = df.groupby('stats')[['size_per_column', 'stats']].describe()['size_per_column']\n",
    "size_per_column.sort_values(by='mean', ascending=True, inplace=True)"
   ]
  },
  {
   "cell_type": "code",
   "execution_count": 23,
   "metadata": {},
   "outputs": [
    {
     "data": {
      "text/html": [
       "<div>\n",
       "<style scoped>\n",
       "    .dataframe tbody tr th:only-of-type {\n",
       "        vertical-align: middle;\n",
       "    }\n",
       "\n",
       "    .dataframe tbody tr th {\n",
       "        vertical-align: top;\n",
       "    }\n",
       "\n",
       "    .dataframe thead tr th {\n",
       "        text-align: left;\n",
       "    }\n",
       "\n",
       "    .dataframe thead tr:last-of-type th {\n",
       "        text-align: right;\n",
       "    }\n",
       "</style>\n",
       "<table border=\"1\" class=\"dataframe\">\n",
       "  <thead>\n",
       "    <tr>\n",
       "      <th></th>\n",
       "      <th colspan=\"8\" halign=\"left\">time_per_column</th>\n",
       "    </tr>\n",
       "    <tr>\n",
       "      <th></th>\n",
       "      <th>count</th>\n",
       "      <th>mean</th>\n",
       "      <th>std</th>\n",
       "      <th>min</th>\n",
       "      <th>25%</th>\n",
       "      <th>50%</th>\n",
       "      <th>75%</th>\n",
       "      <th>max</th>\n",
       "    </tr>\n",
       "    <tr>\n",
       "      <th>stats</th>\n",
       "      <th></th>\n",
       "      <th></th>\n",
       "      <th></th>\n",
       "      <th></th>\n",
       "      <th></th>\n",
       "      <th></th>\n",
       "      <th></th>\n",
       "      <th></th>\n",
       "    </tr>\n",
       "  </thead>\n",
       "  <tbody>\n",
       "    <tr>\n",
       "      <th>chunk</th>\n",
       "      <td>72.0</td>\n",
       "      <td>7337.705742</td>\n",
       "      <td>929.501943</td>\n",
       "      <td>5722.32800</td>\n",
       "      <td>6654.60225</td>\n",
       "      <td>7137.46500</td>\n",
       "      <td>8014.795125</td>\n",
       "      <td>9869.64480</td>\n",
       "    </tr>\n",
       "    <tr>\n",
       "      <th>none</th>\n",
       "      <td>72.0</td>\n",
       "      <td>5432.199686</td>\n",
       "      <td>872.232826</td>\n",
       "      <td>4161.56500</td>\n",
       "      <td>4845.69975</td>\n",
       "      <td>5230.69085</td>\n",
       "      <td>5850.692725</td>\n",
       "      <td>7278.57164</td>\n",
       "    </tr>\n",
       "    <tr>\n",
       "      <th>page</th>\n",
       "      <td>72.0</td>\n",
       "      <td>7798.131423</td>\n",
       "      <td>943.565305</td>\n",
       "      <td>6277.13442</td>\n",
       "      <td>7064.89475</td>\n",
       "      <td>7470.27800</td>\n",
       "      <td>8481.408275</td>\n",
       "      <td>10484.21900</td>\n",
       "    </tr>\n",
       "  </tbody>\n",
       "</table>\n",
       "</div>"
      ],
      "text/plain": [
       "      time_per_column                                                   \\\n",
       "                count         mean         std         min         25%   \n",
       "stats                                                                    \n",
       "chunk            72.0  7337.705742  929.501943  5722.32800  6654.60225   \n",
       "none             72.0  5432.199686  872.232826  4161.56500  4845.69975   \n",
       "page             72.0  7798.131423  943.565305  6277.13442  7064.89475   \n",
       "\n",
       "                                             \n",
       "              50%          75%          max  \n",
       "stats                                        \n",
       "chunk  7137.46500  8014.795125   9869.64480  \n",
       "none   5230.69085  5850.692725   7278.57164  \n",
       "page   7470.27800  8481.408275  10484.21900  "
      ]
     },
     "execution_count": 23,
     "metadata": {},
     "output_type": "execute_result"
    }
   ],
   "source": [
    "df.groupby('stats')[['time_per_column', 'reduced_alloc']].describe()"
   ]
  },
  {
   "cell_type": "code",
   "execution_count": 19,
   "metadata": {},
   "outputs": [
    {
     "data": {
      "image/png": "[encoded data removed]",
      "text/plain": [
       "<Figure size 500x400 with 1 Axes>"
      ]
     },
     "metadata": {},
     "output_type": "display_data"
    }
   ],
   "source": [
    "hue_order = ['Baseline', 'Reduced allocation']\n",
    "\n",
    "fig, ax1 = plt.subplots(1, 1, figsize=(5, 4))\n",
    "sns.barplot(x='stats', y='time_per_column', data=df, hue='reduced_alloc', hue_order=hue_order, ax=ax1)\n",
    "ax1.set_xlabel('Stats level')\n",
    "ax1.set_ylabel('Time (us)')\n",
    "ax1.set_title('Decode time per column (us)')\n",
    "ax1.legend(title='')\n",
    "ax1.yaxis.set_major_formatter(plt.FuncFormatter(lambda x, _: '{:.0f}'.format(x/1e3)))\n",
    "\n",
    "fig.savefig('allocation.png', dpi=300)\n"
   ]
  },
  {
   "cell_type": "code",
   "execution_count": null,
   "metadata": {},
   "outputs": [],
   "source": []
  }
 ],
 "metadata": {
  "kernelspec": {
   "display_name": ".venv",
   "language": "python",
   "name": "python3"
  },
  "language_info": {
   "codemirror_mode": {
    "name": "ipython",
    "version": 3
   },
   "file_extension": ".py",
   "mimetype": "text/x-python",
   "name": "python",
   "nbconvert_exporter": "python",
   "pygments_lexer": "ipython3",
   "version": "3.12.3"
  }
 },
 "nbformat": 4,
 "nbformat_minor": 2
}
